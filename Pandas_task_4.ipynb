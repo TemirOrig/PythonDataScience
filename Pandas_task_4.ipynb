{
 "cells": [
  {
   "cell_type": "markdown",
   "id": "5e4da191",
   "metadata": {},
   "source": [
    "### Task_4"
   ]
  },
  {
   "cell_type": "code",
   "execution_count": 1,
   "id": "458f2d29",
   "metadata": {},
   "outputs": [],
   "source": [
    "import pandas as pd"
   ]
  },
  {
   "cell_type": "code",
   "execution_count": 2,
   "id": "1bd762b7",
   "metadata": {},
   "outputs": [],
   "source": [
    "authors_price = pd.read_csv('Authors_price.csv', sep =';')"
   ]
  },
  {
   "cell_type": "code",
   "execution_count": 65,
   "id": "c3596d99",
   "metadata": {},
   "outputs": [],
   "source": [
    "price_agg_min = authors_price.groupby('author_name').agg({'price':'min'})"
   ]
  },
  {
   "cell_type": "code",
   "execution_count": 82,
   "id": "036c927a",
   "metadata": {},
   "outputs": [],
   "source": [
    "price_agg_min = price_agg_min.rename(columns={'price':'min_price'})"
   ]
  },
  {
   "cell_type": "code",
   "execution_count": 67,
   "id": "71ec66d8",
   "metadata": {},
   "outputs": [],
   "source": [
    "price_agg_max = authors_price.groupby('author_name').agg({'price':'max'})"
   ]
  },
  {
   "cell_type": "code",
   "execution_count": 83,
   "id": "44094011",
   "metadata": {},
   "outputs": [],
   "source": [
    "price_agg_max = price_agg_max.rename(columns={'price':'max_price'})"
   ]
  },
  {
   "cell_type": "code",
   "execution_count": 84,
   "id": "35f7a16b",
   "metadata": {},
   "outputs": [],
   "source": [
    "price_agg_mean = authors_price.groupby('author_name').agg({'price':'mean'})"
   ]
  },
  {
   "cell_type": "code",
   "execution_count": 85,
   "id": "9da83076",
   "metadata": {},
   "outputs": [],
   "source": [
    "price_agg_mean = price_agg_mean.rename(columns={'price':'mean_price'})"
   ]
  },
  {
   "cell_type": "code",
   "execution_count": 86,
   "id": "013c860a",
   "metadata": {},
   "outputs": [],
   "source": [
    "authors_stat = pd.concat([price_agg_min, price_agg_max, price_agg_mean], axis=1, ignore_index=False)"
   ]
  },
  {
   "cell_type": "code",
   "execution_count": 87,
   "id": "6e28aa3c",
   "metadata": {},
   "outputs": [
    {
     "data": {
      "text/html": [
       "<div>\n",
       "<style scoped>\n",
       "    .dataframe tbody tr th:only-of-type {\n",
       "        vertical-align: middle;\n",
       "    }\n",
       "\n",
       "    .dataframe tbody tr th {\n",
       "        vertical-align: top;\n",
       "    }\n",
       "\n",
       "    .dataframe thead th {\n",
       "        text-align: right;\n",
       "    }\n",
       "</style>\n",
       "<table border=\"1\" class=\"dataframe\">\n",
       "  <thead>\n",
       "    <tr style=\"text-align: right;\">\n",
       "      <th></th>\n",
       "      <th>min_price</th>\n",
       "      <th>max_price</th>\n",
       "      <th>mean_price</th>\n",
       "    </tr>\n",
       "    <tr>\n",
       "      <th>author_name</th>\n",
       "      <th></th>\n",
       "      <th></th>\n",
       "      <th></th>\n",
       "    </tr>\n",
       "  </thead>\n",
       "  <tbody>\n",
       "    <tr>\n",
       "      <th>Островский</th>\n",
       "      <td>290</td>\n",
       "      <td>370</td>\n",
       "      <td>330.000000</td>\n",
       "    </tr>\n",
       "    <tr>\n",
       "      <th>Тургенев</th>\n",
       "      <td>300</td>\n",
       "      <td>450</td>\n",
       "      <td>366.666667</td>\n",
       "    </tr>\n",
       "    <tr>\n",
       "      <th>Чехов</th>\n",
       "      <td>450</td>\n",
       "      <td>500</td>\n",
       "      <td>475.000000</td>\n",
       "    </tr>\n",
       "  </tbody>\n",
       "</table>\n",
       "</div>"
      ],
      "text/plain": [
       "             min_price  max_price  mean_price\n",
       "author_name                                  \n",
       "Островский         290        370  330.000000\n",
       "Тургенев           300        450  366.666667\n",
       "Чехов              450        500  475.000000"
      ]
     },
     "execution_count": 87,
     "metadata": {},
     "output_type": "execute_result"
    }
   ],
   "source": [
    "authors_stat"
   ]
  },
  {
   "cell_type": "code",
   "execution_count": null,
   "id": "568f1cea",
   "metadata": {},
   "outputs": [],
   "source": []
  }
 ],
 "metadata": {
  "kernelspec": {
   "display_name": "Python 3 (ipykernel)",
   "language": "python",
   "name": "python3"
  },
  "language_info": {
   "codemirror_mode": {
    "name": "ipython",
    "version": 3
   },
   "file_extension": ".py",
   "mimetype": "text/x-python",
   "name": "python",
   "nbconvert_exporter": "python",
   "pygments_lexer": "ipython3",
   "version": "3.9.12"
  }
 },
 "nbformat": 4,
 "nbformat_minor": 5
}
