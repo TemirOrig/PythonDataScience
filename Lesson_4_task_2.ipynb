{
 "cells": [
  {
   "cell_type": "markdown",
   "id": "57764f8c",
   "metadata": {},
   "source": [
    "### Task_2"
   ]
  },
  {
   "cell_type": "code",
   "execution_count": 2,
   "id": "96f5c447",
   "metadata": {},
   "outputs": [],
   "source": [
    "import matplotlib.pyplot as plt\n",
    "import pandas as pd\n",
    "import numpy as np\n",
    "\n",
    "%matplotlib inline\n",
    "%config InLineBackend.figure_format = 'svg'"
   ]
  },
  {
   "cell_type": "code",
   "execution_count": 3,
   "id": "d3f1fbde",
   "metadata": {},
   "outputs": [
    {
     "data": {
      "text/plain": [
       "(array([ 0. ,  0.2,  0.4,  0.6,  0.8,  1. ,  1.2,  1.4,  1.6,  1.8,  2. ,\n",
       "         2.2,  2.4,  2.6,  2.8,  3. ,  3.2,  3.4,  3.6,  3.8,  4. ,  4.2,\n",
       "         4.4,  4.6,  4.8,  5. ,  5.2,  5.4,  5.6,  5.8,  6. ,  6.2,  6.4,\n",
       "         6.6,  6.8,  7. ,  7.2,  7.4,  7.6,  7.8,  8. ,  8.2,  8.4,  8.6,\n",
       "         8.8,  9. ,  9.2,  9.4,  9.6,  9.8, 10. ]),\n",
       " array([ 1.        ,  0.98006658,  0.92106099,  0.82533561,  0.69670671,\n",
       "         0.54030231,  0.36235775,  0.16996714, -0.02919952, -0.22720209,\n",
       "        -0.41614684, -0.58850112, -0.73739372, -0.85688875, -0.94222234,\n",
       "        -0.9899925 , -0.99829478, -0.96679819, -0.89675842, -0.79096771,\n",
       "        -0.65364362, -0.49026082, -0.30733287, -0.11215253,  0.08749898,\n",
       "         0.28366219,  0.46851667,  0.63469288,  0.77556588,  0.88551952,\n",
       "         0.96017029,  0.9965421 ,  0.99318492,  0.95023259,  0.86939749,\n",
       "         0.75390225,  0.60835131,  0.43854733,  0.25125984,  0.05395542,\n",
       "        -0.14550003, -0.33915486, -0.51928865, -0.67872005, -0.81109301,\n",
       "        -0.91113026, -0.97484362, -0.99969304, -0.98468786, -0.93042627,\n",
       "        -0.83907153]))"
      ]
     },
     "execution_count": 3,
     "metadata": {},
     "output_type": "execute_result"
    }
   ],
   "source": [
    "t = np.linspace(0, 10, 51)\n",
    "f = np.cos(t)\n",
    "t, f"
   ]
  },
  {
   "cell_type": "code",
   "execution_count": 8,
   "id": "26fdb354",
   "metadata": {},
   "outputs": [],
   "source": [
    "title_dict = {'fontsize': 20, 'fontweight': 'bold', 'color': '#808080', 'family': 'Calibri'}"
   ]
  },
  {
   "cell_type": "code",
   "execution_count": 12,
   "id": "76bf053e",
   "metadata": {},
   "outputs": [],
   "source": [
    "lable_dict = {'fontsize': 14, 'color': '#808080', 'family': 'Calibri'}"
   ]
  },
  {
   "cell_type": "code",
   "execution_count": 17,
   "id": "b8b68df2",
   "metadata": {},
   "outputs": [
    {
     "data": {
      "text/plain": [
       "<function matplotlib.pyplot.show(close=None, block=None)>"
      ]
     },
     "execution_count": 17,
     "metadata": {},
     "output_type": "execute_result"
    },
    {
     "data": {
      "image/png": "[encoded data removed]",
      "text/plain": [
       "<Figure size 432x288 with 1 Axes>"
      ]
     },
     "metadata": {
      "needs_background": "light"
     },
     "output_type": "display_data"
    }
   ],
   "source": [
    "plt.axis([0.5, 9.5, -2.5, 2.5])\n",
    "plt.plot(t, f, color='#007d34')\n",
    "plt.title('График f(t)', fontdict=title_dict)\n",
    "plt.xlabel('Значения t', fontdict=lable_dict)\n",
    "plt.ylabel('Значения f', fontdict=lable_dict)\n",
    "plt.show"
   ]
  },
  {
   "cell_type": "code",
   "execution_count": null,
   "id": "3f5246d0",
   "metadata": {},
   "outputs": [],
   "source": []
  }
 ],
 "metadata": {
  "kernelspec": {
   "display_name": "Python 3 (ipykernel)",
   "language": "python",
   "name": "python3"
  },
  "language_info": {
   "codemirror_mode": {
    "name": "ipython",
    "version": 3
   },
   "file_extension": ".py",
   "mimetype": "text/x-python",
   "name": "python",
   "nbconvert_exporter": "python",
   "pygments_lexer": "ipython3",
   "version": "3.9.12"
  }
 },
 "nbformat": 4,
 "nbformat_minor": 5
}
