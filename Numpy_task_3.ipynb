{
 "cells": [
  {
   "cell_type": "markdown",
   "id": "6a8a920d",
   "metadata": {},
   "source": [
    "#### task_3"
   ]
  },
  {
   "cell_type": "code",
   "execution_count": 5,
   "id": "0059f3ee",
   "metadata": {},
   "outputs": [],
   "source": [
    "import numpy as np"
   ]
  },
  {
   "cell_type": "code",
   "execution_count": 6,
   "id": "4c3ec079",
   "metadata": {},
   "outputs": [],
   "source": [
    "a_centered = np.array([[-1. , -2.4],\n",
    "                       [ 0. , -0.4],\n",
    "                       [ 1. ,  2.6],\n",
    "                       [ 1. ,  1.6],\n",
    "                       [-1. , -1.4]])"
   ]
  },
  {
   "cell_type": "code",
   "execution_count": 16,
   "id": "72197bf7",
   "metadata": {},
   "outputs": [
    {
     "data": {
      "text/plain": [
       "8.0"
      ]
     },
     "execution_count": 16,
     "metadata": {},
     "output_type": "execute_result"
    }
   ],
   "source": [
    "a_centered_1 = np.transpose(a_centered)\n",
    "a_centered_2 = a_centered_1[0]\n",
    "a_centered_3 = a_centered_1[1]\n",
    "a_centered_sp = np.dot(a_centered_2, a_centered_3)\n",
    "a_centered_sp"
   ]
  },
  {
   "cell_type": "code",
   "execution_count": 70,
   "id": "04a4976a",
   "metadata": {},
   "outputs": [
    {
     "data": {
      "text/plain": [
       "(2, 5)"
      ]
     },
     "execution_count": 70,
     "metadata": {},
     "output_type": "execute_result"
    }
   ],
   "source": [
    "shape_a_centered_1 = a_centered_1.shape\n",
    "shape_a_centered_1"
   ]
  },
  {
   "cell_type": "code",
   "execution_count": 72,
   "id": "520943e0",
   "metadata": {},
   "outputs": [
    {
     "data": {
      "text/plain": [
       "2.0"
      ]
     },
     "execution_count": 72,
     "metadata": {},
     "output_type": "execute_result"
    }
   ],
   "source": [
    "cov = np.divide(a_centered_sp, (shape_a_centered_1[1] - 1))\n",
    "cov"
   ]
  },
  {
   "cell_type": "code",
   "execution_count": null,
   "id": "17eec22a",
   "metadata": {},
   "outputs": [],
   "source": []
  }
 ],
 "metadata": {
  "kernelspec": {
   "display_name": "Python 3 (ipykernel)",
   "language": "python",
   "name": "python3"
  },
  "language_info": {
   "codemirror_mode": {
    "name": "ipython",
    "version": 3
   },
   "file_extension": ".py",
   "mimetype": "text/x-python",
   "name": "python",
   "nbconvert_exporter": "python",
   "pygments_lexer": "ipython3",
   "version": "3.9.12"
  }
 },
 "nbformat": 4,
 "nbformat_minor": 5
}
