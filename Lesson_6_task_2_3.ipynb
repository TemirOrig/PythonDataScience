{
 "cells": [
  {
   "cell_type": "markdown",
   "id": "e5fe3ec6",
   "metadata": {},
   "source": [
    "### Task_2_3"
   ]
  },
  {
   "cell_type": "code",
   "execution_count": 1,
   "id": "b8035f1d",
   "metadata": {},
   "outputs": [],
   "source": [
    "import pandas as pd\n",
    "import numpy as np"
   ]
  },
  {
   "cell_type": "code",
   "execution_count": 2,
   "id": "c8c55ca1",
   "metadata": {},
   "outputs": [],
   "source": [
    "from sklearn.ensemble import RandomForestRegressor"
   ]
  },
  {
   "cell_type": "code",
   "execution_count": 4,
   "id": "dac87ab9",
   "metadata": {},
   "outputs": [],
   "source": [
    "model = RandomForestRegressor(n_estimators=1000, max_depth=12, random_state=42)"
   ]
  },
  {
   "cell_type": "code",
   "execution_count": 5,
   "id": "ed4a7100",
   "metadata": {},
   "outputs": [],
   "source": [
    "X_train = pd.read_pickle('X_train.pkl')\n",
    "y_train = pd.read_pickle('y_train.pkl')\n",
    "X_test = pd.read_pickle('X_test.pkl')\n",
    "y_test = pd.read_pickle('y_test.pkl')"
   ]
  },
  {
   "cell_type": "code",
   "execution_count": 6,
   "id": "34aadd71",
   "metadata": {},
   "outputs": [
    {
     "data": {
      "text/plain": [
       "RandomForestRegressor(max_depth=12, n_estimators=1000, random_state=42)"
      ]
     },
     "execution_count": 6,
     "metadata": {},
     "output_type": "execute_result"
    }
   ],
   "source": [
    "model.fit(X_train, y_train.values[:, 0])"
   ]
  },
  {
   "cell_type": "code",
   "execution_count": 7,
   "id": "e0a173f3",
   "metadata": {},
   "outputs": [],
   "source": [
    "y_pred = model.predict(X_test)"
   ]
  },
  {
   "cell_type": "code",
   "execution_count": 8,
   "id": "71391530",
   "metadata": {},
   "outputs": [],
   "source": [
    "from sklearn.metrics import r2_score"
   ]
  },
  {
   "cell_type": "code",
   "execution_count": 9,
   "id": "81e79c75",
   "metadata": {},
   "outputs": [
    {
     "data": {
      "text/plain": [
       "0.87472606157312"
      ]
     },
     "execution_count": 9,
     "metadata": {},
     "output_type": "execute_result"
    }
   ],
   "source": [
    "r2_score(y_test, y_pred)"
   ]
  },
  {
   "cell_type": "markdown",
   "id": "74f25e62",
   "metadata": {},
   "source": [
    "##### В текущем задании значение r2_score ближе к единице, чем в прошлом. \n"
   ]
  },
  {
   "cell_type": "code",
   "execution_count": 101,
   "id": "89b769a1",
   "metadata": {},
   "outputs": [],
   "source": [
    "fi_array = model.feature_importances_"
   ]
  },
  {
   "cell_type": "code",
   "execution_count": 102,
   "id": "776ffd98",
   "metadata": {},
   "outputs": [
    {
     "data": {
      "text/plain": [
       "array([0.03167574, 0.00154252, 0.00713813, 0.00123624, 0.01426897,\n",
       "       0.40268179, 0.01429864, 0.06397257, 0.00528122, 0.01152493,\n",
       "       0.01808108, 0.01245085, 0.41584732])"
      ]
     },
     "execution_count": 102,
     "metadata": {},
     "output_type": "execute_result"
    }
   ],
   "source": [
    "fi_array"
   ]
  },
  {
   "cell_type": "code",
   "execution_count": 105,
   "id": "ac9f34cc",
   "metadata": {},
   "outputs": [],
   "source": [
    "import heapq"
   ]
  },
  {
   "cell_type": "code",
   "execution_count": 120,
   "id": "a2198d95",
   "metadata": {},
   "outputs": [],
   "source": [
    "new_array = fi_array.tolist()"
   ]
  },
  {
   "cell_type": "code",
   "execution_count": 121,
   "id": "be80fdbf",
   "metadata": {},
   "outputs": [
    {
     "data": {
      "text/plain": [
       "[0.03167574073875602,\n",
       " 0.0015425166262328857,\n",
       " 0.007138131415845557,\n",
       " 0.0012362448947738866,\n",
       " 0.0142689698753483,\n",
       " 0.4026817857034993,\n",
       " 0.014298644996729816,\n",
       " 0.06397256527230023,\n",
       " 0.00528121831288784,\n",
       " 0.011524934553144586,\n",
       " 0.018081076405025417,\n",
       " 0.012450853014007697,\n",
       " 0.4158473181914483]"
      ]
     },
     "execution_count": 121,
     "metadata": {},
     "output_type": "execute_result"
    }
   ],
   "source": [
    "new_array"
   ]
  },
  {
   "cell_type": "code",
   "execution_count": 124,
   "id": "5f8270d9",
   "metadata": {},
   "outputs": [
    {
     "data": {
      "text/plain": [
       "[0.4158473181914483, 0.4026817857034993]"
      ]
     },
     "execution_count": 124,
     "metadata": {},
     "output_type": "execute_result"
    }
   ],
   "source": [
    "largest_two = heapq.nlargest(2, new_array)\n",
    "largest_two"
   ]
  },
  {
   "cell_type": "code",
   "execution_count": 132,
   "id": "b0b5b5fb",
   "metadata": {},
   "outputs": [
    {
     "data": {
      "text/plain": [
       "((array([12], dtype=int64),), (array([5], dtype=int64),))"
      ]
     },
     "execution_count": 132,
     "metadata": {},
     "output_type": "execute_result"
    }
   ],
   "source": [
    "i, j = [np.where(fi_array == el) for el in largest_two]\n",
    "i, j"
   ]
  },
  {
   "cell_type": "code",
   "execution_count": 133,
   "id": "4e43bcaf",
   "metadata": {},
   "outputs": [
    {
     "name": "stdout",
     "output_type": "stream",
     "text": [
      "<class 'pandas.core.frame.DataFrame'>\n",
      "Int64Index: 354 entries, 5 to 102\n",
      "Data columns (total 13 columns):\n",
      " #   Column   Non-Null Count  Dtype  \n",
      "---  ------   --------------  -----  \n",
      " 0   CRIM     354 non-null    float64\n",
      " 1   ZN       354 non-null    float64\n",
      " 2   INDUS    354 non-null    float64\n",
      " 3   CHAS     354 non-null    float64\n",
      " 4   NOX      354 non-null    float64\n",
      " 5   RM       354 non-null    float64\n",
      " 6   AGE      354 non-null    float64\n",
      " 7   DIS      354 non-null    float64\n",
      " 8   RAD      354 non-null    float64\n",
      " 9   TAX      354 non-null    float64\n",
      " 10  PTRATIO  354 non-null    float64\n",
      " 11  B        354 non-null    float64\n",
      " 12  LSTAT    354 non-null    float64\n",
      "dtypes: float64(13)\n",
      "memory usage: 38.7 KB\n"
     ]
    }
   ],
   "source": [
    "X_train.info()"
   ]
  },
  {
   "cell_type": "markdown",
   "id": "aecc2024",
   "metadata": {},
   "source": [
    "##### Наибольшую важность показали признаки 'RM' и 'LSTAT'."
   ]
  },
  {
   "cell_type": "code",
   "execution_count": null,
   "id": "6b078c82",
   "metadata": {},
   "outputs": [],
   "source": []
  }
 ],
 "metadata": {
  "kernelspec": {
   "display_name": "Python 3 (ipykernel)",
   "language": "python",
   "name": "python3"
  },
  "language_info": {
   "codemirror_mode": {
    "name": "ipython",
    "version": 3
   },
   "file_extension": ".py",
   "mimetype": "text/x-python",
   "name": "python",
   "nbconvert_exporter": "python",
   "pygments_lexer": "ipython3",
   "version": "3.9.12"
  }
 },
 "nbformat": 4,
 "nbformat_minor": 5
}
